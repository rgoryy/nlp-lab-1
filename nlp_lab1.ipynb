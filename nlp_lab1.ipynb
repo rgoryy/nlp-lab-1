{
  "nbformat": 4,
  "nbformat_minor": 0,
  "metadata": {
    "colab": {
      "provenance": []
    },
    "kernelspec": {
      "name": "python3",
      "display_name": "Python 3"
    },
    "language_info": {
      "name": "python"
    }
  },
  "cells": [
    {
      "cell_type": "code",
      "execution_count": null,
      "metadata": {
        "id": "oS6nnPn16BSI"
      },
      "outputs": [],
      "source": [
        "import nltk\n",
        "from nltk.tokenize import word_tokenize"
      ]
    },
    {
      "cell_type": "markdown",
      "source": [
        "**Токенизация**"
      ],
      "metadata": {
        "id": "XRk_U4sX6oyr"
      }
    },
    {
      "cell_type": "code",
      "source": [
        "nltk.download('punkt_tab')\n",
        "print(word_tokenize(\"Типа текст.\"))"
      ],
      "metadata": {
        "colab": {
          "base_uri": "https://localhost:8080/"
        },
        "id": "iUUcr6BO6WO2",
        "outputId": "964bbc76-63ed-4980-85a3-1dde3c0f4769"
      },
      "execution_count": null,
      "outputs": [
        {
          "output_type": "stream",
          "name": "stdout",
          "text": [
            "['Типа', 'текст', '.']\n"
          ]
        },
        {
          "output_type": "stream",
          "name": "stderr",
          "text": [
            "[nltk_data] Downloading package punkt_tab to /root/nltk_data...\n",
            "[nltk_data]   Package punkt_tab is already up-to-date!\n"
          ]
        }
      ]
    },
    {
      "cell_type": "markdown",
      "source": [
        "**Сегментация**"
      ],
      "metadata": {
        "id": "fdgf1dUE6uG4"
      }
    },
    {
      "cell_type": "code",
      "source": [
        "import nltk\n",
        "from nltk import sent_tokenize"
      ],
      "metadata": {
        "id": "Ymqjnhm76nM7"
      },
      "execution_count": null,
      "outputs": []
    },
    {
      "cell_type": "code",
      "source": [
        "nltk.download('punkt_tab')\n",
        "print(sent_tokenize(\"Типа текст. Не, серьезно.\"))"
      ],
      "metadata": {
        "colab": {
          "base_uri": "https://localhost:8080/"
        },
        "id": "3QhDBsN46zXl",
        "outputId": "eea18432-68ce-4616-f6d4-12af7265b918"
      },
      "execution_count": null,
      "outputs": [
        {
          "output_type": "stream",
          "name": "stdout",
          "text": [
            "['Типа текст.', 'Не, серьезно.']\n"
          ]
        },
        {
          "output_type": "stream",
          "name": "stderr",
          "text": [
            "[nltk_data] Downloading package punkt_tab to /root/nltk_data...\n",
            "[nltk_data]   Package punkt_tab is already up-to-date!\n"
          ]
        }
      ]
    },
    {
      "cell_type": "code",
      "source": [
        "import pymorphy3"
      ],
      "metadata": {
        "id": "FPIiFkQu7BcH"
      },
      "execution_count": null,
      "outputs": []
    },
    {
      "cell_type": "code",
      "source": [
        "m = pymorphy3.MorphAnalyzer()\n",
        "w = m.parse(\"университетов\")[0]\n",
        "print(w.normal_form)"
      ],
      "metadata": {
        "colab": {
          "base_uri": "https://localhost:8080/"
        },
        "id": "njrxPVXX7Rrw",
        "outputId": "60a241bf-cff0-4711-89f2-1035295b5a23"
      },
      "execution_count": null,
      "outputs": [
        {
          "output_type": "stream",
          "name": "stdout",
          "text": [
            "университет\n"
          ]
        }
      ]
    },
    {
      "cell_type": "markdown",
      "source": [
        "**Реализация лабораторной № 1**"
      ],
      "metadata": {
        "id": "1IhEYGQP7qUl"
      }
    },
    {
      "cell_type": "code",
      "source": [
        "text_file = open('test_text.txt', 'r')\n",
        "text_data = text_file.read()"
      ],
      "metadata": {
        "id": "X2cSJZrh7uWB"
      },
      "execution_count": null,
      "outputs": []
    },
    {
      "cell_type": "code",
      "source": [
        "tokens = word_tokenize(text_data)"
      ],
      "metadata": {
        "id": "P2knBs_E7ydU"
      },
      "execution_count": null,
      "outputs": []
    },
    {
      "cell_type": "code",
      "source": [
        "filtered_tokens = []\n",
        "for token in tokens:\n",
        "    if token.isalpha():\n",
        "        filtered_tokens.append(token)"
      ],
      "metadata": {
        "id": "sUNAtq6kCcCE"
      },
      "execution_count": null,
      "outputs": []
    },
    {
      "cell_type": "code",
      "source": [
        "def filter(word1, word2):\n",
        "  if (word1.tag.POS =='NOUN' or word1.tag.POS == 'ADJF') and (word2.tag.POS == 'NOUN' or word2.tag.POS == 'ADJF'):\n",
        "    if (word1.tag.case == word2.tag.case) and (word1.tag.number == word2.tag.number) and (word1.tag.gender == word2.tag.gender):\n",
        "      print(f\"{word1.normal_form} {word2.normal_form}\")"
      ],
      "metadata": {
        "id": "U4ic-rIqFciO"
      },
      "execution_count": null,
      "outputs": []
    },
    {
      "cell_type": "code",
      "source": [
        "for i in range(0, len(filtered_tokens)-1):\n",
        "      filter(m.parse(filtered_tokens[i])[0], m.parse(filtered_tokens[i+1])[0])"
      ],
      "metadata": {
        "colab": {
          "base_uri": "https://localhost:8080/"
        },
        "id": "J_2L55OJBBH1",
        "outputId": "6c1db027-898e-4bd9-cba1-e164afc0b914"
      },
      "execution_count": null,
      "outputs": [
        {
          "output_type": "stream",
          "name": "stdout",
          "text": [
            "обширный канзасский\n",
            "девочка элли\n",
            "отец фермер\n",
            "фермер джон\n",
            "целый день\n",
            "мать анна\n",
            "небольшой фургон\n",
            "фургон снятой\n",
            "железный печка\n",
            "шкаф стол\n",
            "сам дверь\n",
            "лёгонький жилище\n",
            "фермер джон\n",
            "сам горизонт\n",
            "бедный домик\n",
            "дядя роберт\n",
            "старый рольф\n",
            "чудесный ветряный\n",
            "родина элли\n",
            "никакой другой\n",
            "дешёвый эллин\n",
            "весёлый пёсик\n",
            "дедушка рольф\n",
            "свой маленький\n",
            "целый день\n",
            "каждый день\n"
          ]
        }
      ]
    }
  ]
}